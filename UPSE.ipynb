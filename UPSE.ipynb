{
 "cells": [
  {
   "cell_type": "code",
   "execution_count": 1,
   "id": "3d9a8398",
   "metadata": {},
   "outputs": [
    {
     "data": {
      "text/plain": [
       "True"
      ]
     },
     "execution_count": 1,
     "metadata": {},
     "output_type": "execute_result"
    }
   ],
   "source": [
    "from langgraph.graph import StateGraph, START, END\n",
    "from langchain_openai import ChatOpenAI\n",
    "from dotenv import load_dotenv\n",
    "from typing import TypedDict, List\n",
    "from typing_extensions import Annotated\n",
    "import operator\n",
    "import json\n",
    "import re\n",
    "\n",
    "load_dotenv()"
   ]
  },
  {
   "cell_type": "code",
   "execution_count": 2,
   "id": "8f99e135",
   "metadata": {},
   "outputs": [],
   "source": [
    "import os \n",
    "model = ChatOpenAI(\n",
    "    model_name=\"mistralai/mistral-7b-instruct\",\n",
    "    openai_api_base=\"https://openrouter.ai/api/v1\",\n",
    "    openai_api_key=os.getenv(\"OPENROUTER_API_KEY\"),\n",
    "    temperature=0.7,\n",
    ")"
   ]
  },
  {
   "cell_type": "code",
   "execution_count": 3,
   "id": "640d0943",
   "metadata": {},
   "outputs": [],
   "source": [
    "from pydantic import BaseModel, Field\n",
    "\n",
    "class Schema(BaseModel):\n",
    "    feedback: str = Field(description=\"Detailed feedback for the essay\")\n",
    "    score: int = Field(description=\"Score out of 10\", ge=0, le=10)"
   ]
  },
  {
   "cell_type": "code",
   "execution_count": 4,
   "id": "ee7529de",
   "metadata": {},
   "outputs": [],
   "source": [
    "str_model = model.with_structured_output(Schema)"
   ]
  },
  {
   "cell_type": "code",
   "execution_count": 5,
   "id": "dcc3b6d7",
   "metadata": {},
   "outputs": [],
   "source": [
    "class UPSEState(TypedDict):\n",
    "    essay: str\n",
    "    language_feedback: str\n",
    "    clarity_feedback: str  # Fixed: was COT\n",
    "    overall_feedback: str\n",
    "    analysis_feedback: str\n",
    "    individual_scores: Annotated[list[int], operator.add]\n",
    "    improved_essay: str\n",
    "    max_iterations: int\n",
    "    avg_score: float\n",
    "    iteration_count: int\n",
    "    threshold_score: float"
   ]
  },
  {
   "cell_type": "markdown",
   "id": "3b918ebf",
   "metadata": {},
   "source": [
    "Function for language evaluation"
   ]
  },
  {
   "cell_type": "code",
   "execution_count": 6,
   "id": "785a9b14",
   "metadata": {},
   "outputs": [],
   "source": [
    "def evaluate_language(state: UPSEState):\n",
    "    prompt = f\"Review the following essay for language quality. Check for grammar, clarity, coherence, formal tone, and vocabulary. Suggest improvements if needed and assign a score out of 10.\\n{state['essay']}\"\n",
    "    output = str_model.invoke(prompt)\n",
    "    return {'language_feedback': output.feedback, 'individual_scores': [output.score]}"
   ]
  },
  {
   "cell_type": "markdown",
   "id": "852a2374",
   "metadata": {},
   "source": [
    "Function for analysis evaluation"
   ]
  },
  {
   "cell_type": "code",
   "execution_count": 7,
   "id": "6c525442",
   "metadata": {},
   "outputs": [],
   "source": [
    "def evaluate_analysis(state: UPSEState):\n",
    "    prompt = f'Evaluate the depth of analysis of the following essay and provide feedback and assign a score out of 10.\\n{state[\"essay\"]}'\n",
    "    output = str_model.invoke(prompt)\n",
    "    return {'analysis_feedback': output.feedback, 'individual_scores': [output.score]}"
   ]
  },
  {
   "cell_type": "markdown",
   "id": "36d69522",
   "metadata": {},
   "source": [
    "Function for clarity of thought evaluation"
   ]
  },
  {
   "cell_type": "code",
   "execution_count": 8,
   "id": "e159a8c7",
   "metadata": {},
   "outputs": [],
   "source": [
    "def evaluate_COT(state: UPSEState):\n",
    "    prompt = f'Evaluate the clarity of thought of the following essay and provide feedback and assign a score out of 10.\\n{state[\"essay\"]}'\n",
    "    output = str_model.invoke(prompt)\n",
    "    return {'clarity_feedback': output.feedback, 'individual_scores': [output.score]}  # Fixed: was individual_score"
   ]
  },
  {
   "cell_type": "markdown",
   "id": "632515df",
   "metadata": {},
   "source": [
    "Function for final summary"
   ]
  },
  {
   "cell_type": "code",
   "execution_count": 9,
   "id": "04f0c9d9",
   "metadata": {},
   "outputs": [],
   "source": [
    "def final_evaluation(state: UPSEState):\n",
    "    prompt = f'Based on the following feedback create a summarized feedback:\\nLanguage feedback: {state[\"language_feedback\"]}\\nAnalysis feedback: {state[\"analysis_feedback\"]}\\nClarity feedback: {state[\"clarity_feedback\"]}'\n",
    "    overall_feedback = model.invoke(prompt).content\n",
    "    avg_score = sum(state['individual_scores']) / len(state['individual_scores']) if state['individual_scores'] else 0.0\n",
    "    return {'overall_feedback': overall_feedback, 'avg_score': avg_score}"
   ]
  },
  {
   "cell_type": "markdown",
   "id": "2c67af40",
   "metadata": {},
   "source": [
    "Function for improving essay"
   ]
  },
  {
   "cell_type": "code",
   "execution_count": 10,
   "id": "4356193e",
   "metadata": {},
   "outputs": [],
   "source": [
    "def improve_essay(state: UPSEState) -> UPSEState:\n",
    "    prompt = f\"\"\"You are an expert UPSC essay writer.\n",
    "\n",
    "Using the following feedback:\n",
    "- Clarity of Thought: {state[\"clarity_feedback\"]}\n",
    "- Language Quality: {state[\"language_feedback\"]}\n",
    "- Analytical Depth: {state[\"analysis_feedback\"]}\n",
    "\n",
    "Rewrite the essay in a much better way, maintaining the original theme and increasing its effectiveness.\n",
    "\n",
    "Essay to improve:\n",
    "{state[\"essay\"]}\n",
    "\n",
    "Return only the improved essay.\"\"\"\n",
    "    improved = model.invoke(prompt).content\n",
    "    return {\n",
    "        **state,\n",
    "        \"essay\": improved,\n",
    "        \"iteration_count\": state.get(\"iteration_count\", 0) + 1,\n",
    "    }"
   ]
  },
  {
   "cell_type": "markdown",
   "id": "64514844",
   "metadata": {},
   "source": [
    "Conditional node for quality check"
   ]
  },
  {
   "cell_type": "code",
   "execution_count": 11,
   "id": "a8d0961e",
   "metadata": {},
   "outputs": [],
   "source": [
    "def check_quality(state: UPSEState) -> str:\n",
    "    if state['avg_score'] >= state['threshold_score'] or state['iteration_count'] >= state['max_iterations']:\n",
    "        return \"end\"\n",
    "    else:\n",
    "        return \"improve_essay\""
   ]
  },
  {
   "cell_type": "markdown",
   "id": "ba650d1a",
   "metadata": {},
   "source": [
    "Build the workflow graph"
   ]
  },
  {
   "cell_type": "code",
   "execution_count": 12,
   "id": "dbe05377",
   "metadata": {},
   "outputs": [
    {
     "data": {
      "image/png": "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",
      "text/plain": [
       "<langgraph.graph.state.CompiledStateGraph object at 0x0000014CA4FBBFA0>"
      ]
     },
     "execution_count": 12,
     "metadata": {},
     "output_type": "execute_result"
    }
   ],
   "source": [
    "graph = StateGraph(UPSEState)\n",
    "\n",
    "graph.add_node('evaluate_language', evaluate_language)\n",
    "graph.add_node('evaluate_analysis', evaluate_analysis)\n",
    "graph.add_node('evaluate_COT', evaluate_COT)\n",
    "graph.add_node('final_evaluation', final_evaluation)  # Fixed: was final_evalution\n",
    "graph.add_node('check_quality', check_quality)\n",
    "graph.add_node('improve_essay', improve_essay)\n",
    "\n",
    "graph.add_edge(START, 'evaluate_language')\n",
    "graph.add_edge(START, 'evaluate_analysis')\n",
    "graph.add_edge(START, 'evaluate_COT')\n",
    "\n",
    "graph.add_edge('evaluate_language', 'final_evaluation')\n",
    "graph.add_edge('evaluate_analysis', 'final_evaluation')\n",
    "graph.add_edge('evaluate_COT', 'final_evaluation')\n",
    "\n",
    "graph.add_conditional_edges(\n",
    "    'check_quality',\n",
    "    check_quality,\n",
    "    {\n",
    "        \"end\": END,\n",
    "        \"improve_essay\": \"improve_essay\"\n",
    "    }\n",
    ")\n",
    "\n",
    "graph.add_edge('final_evaluation', 'check_quality')\n",
    "\n",
    "workflow = graph.compile()\n",
    "workflow"
   ]
  },
  {
   "cell_type": "markdown",
   "id": "2459a5d0",
   "metadata": {},
   "source": [
    "Initialize and run the workflow"
   ]
  },
  {
   "cell_type": "code",
   "execution_count": null,
   "id": "7833740e",
   "metadata": {},
   "outputs": [],
   "source": [
    "initial_state = {\n",
    "    'essay': \"\"\"Artificial Intelligence (AI) is not just a technological breakthrough—it is a strategic imperative for nations in the 21st century. For India, AI presents a historic opportunity to drive inclusive growth, strengthen governance, and position itself as a global digital leader.\n",
    "\n",
    "India's strengths lie in its vast digital ecosystem, young tech-savvy population, and rich data reserves. Recognizing this, NITI Aayog's #AIForAll initiative identifies key sectors for AI deployment: agriculture, healthcare, education, smart mobility, and infrastructure.\n",
    "\n",
    "AI is already enhancing public service delivery through:\n",
    "\n",
    "Predictive analytics in healthcare (e.g., Aarogya Setu)\n",
    "Crop monitoring via satellite data and ML\n",
    "Chatbots in citizen services\n",
    "Facial recognition for law enforcement\n",
    "\n",
    "However, challenges remain—job displacement, data privacy, algorithmic bias, and lack of regulation demand immediate attention. India's future in AI must balance innovation with ethics, inclusion with efficiency, and automation with accountability.\n",
    "\n",
    "If harnessed responsibly, AI can transform India into a technology-driven welfare state, empowering citizens and ensuring efficient, transparent, and responsive governance\"\"\",\n",
    "    'language_feedback': \"\",\n",
    "    'clarity_feedback': \"\",  # Fixed: was COT\n",
    "    'overall_feedback': \"\",\n",
    "    'analysis_feedback': \"\",\n",
    'individual_scores': [],
    "    'improved_essay': \"\",\n",
    "    'max_iterations': 3,\n",
    "    'avg_score': 0.0,\n",
    "    'iteration_count': 0,\n",
    "    'threshold_score': 7.0,\n",
    "}\n",
    "\n",
    "output = workflow.invoke(initial_state)\n",
    "print(\"Final output:\", output)"
   ]
  },
  {
   "cell_type": "code",
   "execution_count": null,
   "id": "35f22a6a",
   "metadata": {},
   "outputs": [],
   "source": []
  }
 ],
 "metadata": {
  "kernelspec": {
   "display_name": "langGraph",
   "language": "python",
   "name": "python3"
  },
  "language_info": {
   "codemirror_mode": {
    "name": "ipython",
    "version": 3
   },
   "file_extension": ".py",
   "mimetype": "text/x-python",
   "name": "python",
   "nbconvert_exporter": "python",
   "pygments_lexer": "ipython3",
   "version": "3.10.0"
  }
 },
 "nbformat": 4,
 "nbformat_minor": 5
}
