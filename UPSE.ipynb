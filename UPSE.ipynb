{
 "cells": [
  {
   "cell_type": "code",
   "execution_count": 1,
   "id": "6efbf787",
   "metadata": {},
   "outputs": [],
   "source": [
    "from langgraph.graph import StateGraph, START, END\n",
    "from langchain_openai import ChatOpenAI\n",
    "from dotenv import load_dotenv\n",
    "from typing import TypedDict, List\n",
    "from typing_extensions import Annotated\n",
    "import operator\n",
    "\n",
    "load_dotenv()\n",
    "import os "
   ]
  },
  {
   "cell_type": "code",
   "execution_count": 2,
   "id": "521a22a9",
   "metadata": {},
   "outputs": [],
   "source": [
    "model = ChatOpenAI(\n",
    "    model_name=\"mistralai/mistral-7b-instruct\",\n",
    "    openai_api_base=\"https://openrouter.ai/api/v1\",\n",
    "    openai_api_key=os.getenv(\"OPENROUTER_API_KEY\"),\n",
    "    temperature=0.7,\n",
    ")"
   ]
  },
  {
   "cell_type": "code",
   "execution_count": 3,
   "id": "d5ffdaa9",
   "metadata": {},
   "outputs": [],
   "source": [
    "from pydantic import BaseModel, Field\n",
    "\n",
    "class Schema(BaseModel):\n",
    "    feedback: str = Field(description=\"Detailed feedback for the essay\")\n",
    "    score: int = Field(description=\"Score out of 10\", ge=0, le=10)\n",
    "\n",
    "str_model = model.with_structured_output(Schema)"
   ]
  },
  {
   "cell_type": "code",
   "execution_count": 4,
   "id": "8fd8a7f7",
   "metadata": {},
   "outputs": [],
   "source": [
    "class UPSEState(TypedDict):\n",
    "    essay: str\n",
    "    language_feedback: str\n",
    "    clarity_feedback: str\n",
    "    overall_feedback: str\n",
    "    analysis_feedback: str\n",
    "    individual_scores: Annotated[list[int], operator.add]\n",
    "    improved_essay: str\n",
    "    max_iterations: int\n",
    "    avg_score: float\n",
    "    iteration_count: int\n",
    "    threshold_score: float"
   ]
  },
  {
   "cell_type": "code",
   "execution_count": 5,
   "id": "09ed5e5d",
   "metadata": {},
   "outputs": [],
   "source": [
    "def evaluate_language(state: UPSEState):\n",
    "    prompt = f\"\"\"Analyze the following essay for language quality. Return ONLY a JSON object with 'feedback' and 'score' fields.\n",
    "\n",
    "Essay: {state['essay']}\n",
    "\n",
    "Required JSON format:\n",
    "{{\"feedback\": \"detailed feedback on grammar, clarity, coherence, formal tone, and vocabulary\", \"score\": integer_score_out_of_10}}\"\"\"\n",
    "\n",
    "    output = str_model.invoke(prompt)\n",
    "    return {'language_feedback': output.feedback, 'individual_scores': [output.score]}"
   ]
  },
  {
   "cell_type": "code",
   "execution_count": 6,
   "id": "8739e9b8",
   "metadata": {},
   "outputs": [],
   "source": [
    "def evaluate_analysis(state: UPSEState):\n",
    "    prompt = f\"\"\"Evaluate the depth of analysis in the following essay. Return ONLY a JSON object with 'feedback' and 'score' fields.\n",
    "\n",
    "Essay: {state['essay']}\n",
    "\n",
    "Required JSON format:\n",
    "{{\"feedback\": \"detailed feedback on analytical depth\", \"score\": integer_score_out_of_10}}\"\"\"\n",
    "\n",
    "    output = str_model.invoke(prompt)\n",
    "    return {'analysis_feedback': output.feedback, 'individual_scores': [output.score]}"
   ]
  },
  {
   "cell_type": "code",
   "execution_count": 7,
   "id": "59ff9d02",
   "metadata": {},
   "outputs": [],
   "source": [
    "def evaluate_COT(state: UPSEState):\n",
    "    prompt = f\"\"\"Evaluate the clarity of thought in the following essay. Return ONLY a JSON object with 'feedback' and 'score' fields.\n",
    "\n",
    "Essay: {state['essay']}\n",
    "\n",
    "Required JSON format:\n",
    "{{\"feedback\": \"detailed feedback on clarity of thought\", \"score\": integer_score_out_of_10}}\"\"\"\n",
    "\n",
    "    output = str_model.invoke(prompt)\n",
    "    return {'clarity_feedback': output.feedback, 'individual_scores': [output.score]}"
   ]
  },
  {
   "cell_type": "code",
   "execution_count": 8,
   "id": "fc0979f9",
   "metadata": {},
   "outputs": [],
   "source": [
    "# Function for final summary\n",
    "def final_evaluation(state: UPSEState):\n",
    "    prompt = f'Based on the following feedback create a summarized feedback:\\nLanguage feedback: {state[\"language_feedback\"]}\\nAnalysis feedback: {state[\"analysis_feedback\"]}\\nClarity feedback: {state[\"clarity_feedback\"]}'\n",
    "    overall_feedback = model.invoke(prompt).content\n",
    "    avg_score = sum(state['individual_scores']) / len(state['individual_scores']) if state['individual_scores'] else 0.0\n",
    "    return {'overall_feedback': overall_feedback, 'avg_score': avg_score}"
   ]
  },
  {
   "cell_type": "code",
   "execution_count": 9,
   "id": "dfcc54c2",
   "metadata": {},
   "outputs": [],
   "source": [
    "# Check quality node - this is the key fix!\n",
    "def check_quality(state: UPSEState):\n",
    "    \"\"\"Check quality node that returns state updates, not routing decisions\"\"\"\n",
    "    print(f\"🔍 Quality Check: Score = {state['avg_score']:.2f}, Iteration = {state['iteration_count']}\")\n",
    "    \n",
    "    # This node doesn't return routing info, just processes the state\n",
    "    # The routing decision is handled by the conditional function\n",
    "    return {}  # Return empty dict to maintain state"
   ]
  },
  {
   "cell_type": "code",
   "execution_count": 10,
   "id": "fca21fc8",
   "metadata": {},
   "outputs": [],
   "source": [
    "# Conditional function for routing decisions\n",
    "def should_continue(state: UPSEState) -> str:\n",
    "    \"\"\"Determines whether to continue improving or end the workflow\"\"\"\n",
    "    if state['avg_score'] >= state['threshold_score']:\n",
    "        print(f\" Quality threshold met! Average score: {state['avg_score']:.2f}\")\n",
    "        return \"end\"\n",
    "    elif state['iteration_count'] >= state['max_iterations']:\n",
    "        print(f\" Max iterations reached ({state['max_iterations']}). Current score: {state['avg_score']:.2f}\")\n",
    "        return \"end\"\n",
    "    else:\n",
    "        print(f\" Continuing improvement. Current score: {state['avg_score']:.2f}, Iteration: {state['iteration_count']}\")\n",
    "        return \"improve_essay\""
   ]
  },
  {
   "cell_type": "code",
   "execution_count": 11,
   "id": "2a1634d3",
   "metadata": {},
   "outputs": [],
   "source": [
    "def improve_essay(state: UPSEState):\n",
    "    prompt = f\"\"\"You are an expert UPSC essay writer.\n",
    "\n",
    "Using the following feedback:\n",
    "- Clarity of Thought: {state[\"clarity_feedback\"]}\n",
    "- Language Quality: {state[\"language_feedback\"]}\n",
    "- Analytical Depth: {state[\"analysis_feedback\"]}\n",
    "\n",
    "Rewrite the essay in a much better way, maintaining the original theme and increasing its effectiveness.\n",
    "\n",
    "Essay to improve:\n",
    "{state[\"essay\"]}\n",
    "\n",
    "Return only the improved essay.\"\"\"\n",
    "\n",
    "    improved = model.invoke(prompt).content\n",
    "    return {\n",
    "        \"essay\": improved,\n",
    "        \"iteration_count\": state.get(\"iteration_count\", 0) + 1,\n",
    "        # Reset individual scores for next iteration\n",
    "        \"individual_scores\": [],\n",
    "        \"language_feedback\": \"\",\n",
    "        \"clarity_feedback\": \"\",\n",
    "        \"analysis_feedback\": \"\",\n",
    "        \"overall_feedback\": \"\"\n",
    "    }"
   ]
  },
  {
   "cell_type": "code",
   "execution_count": 12,
   "id": "10b5d35c",
   "metadata": {},
   "outputs": [],
   "source": [
    "graph = StateGraph(UPSEState)\n",
    "\n",
    "# Add all nodes\n",
    "graph.add_node('evaluate_COT', evaluate_COT)\n",
    "graph.add_node('evaluate_analysis', evaluate_analysis)\n",
    "graph.add_node('evaluate_language', evaluate_language)\n",
    "graph.add_node('final_evaluation', final_evaluation)\n",
    "graph.add_node('check_quality', check_quality)\n",
    "graph.add_node('improve_essay', improve_essay)\n",
    "\n",
    "# Flow exactly as shown in the diagram\n",
    "# START -> evaluate_COT  \n",
    "graph.add_edge(START, 'evaluate_COT')\n",
    "\n",
    "# evaluate_COT -> evaluate_analysis\n",
    "graph.add_edge('evaluate_COT', 'evaluate_analysis')\n",
    "\n",
    "# evaluate_analysis -> evaluate_language\n",
    "graph.add_edge('evaluate_analysis', 'evaluate_language')\n",
    "\n",
    "# evaluate_language -> final_evaluation\n",
    "graph.add_edge('evaluate_language', 'final_evaluation')\n",
    "\n",
    "# final_evaluation -> check_quality\n",
    "graph.add_edge('final_evaluation', 'check_quality')\n",
    "\n",
    "# Conditional edges from check_quality\n",
    "graph.add_conditional_edges(\n",
    "    'check_quality',\n",
    "    should_continue,  # This function determines the routing\n",
    "    {\n",
    "        \"end\": END,\n",
    "        \"improve_essay\": \"improve_essay\"\n",
    "    }\n",
    ")\n",
    "\n",
    "# improve_essay -> evaluate_COT (completing the cycle)\n",
    "graph.add_edge('improve_essay', 'evaluate_COT')\n",
    "\n",
    "# Compile the workflow\n",
    "workflow = graph.compile()"
   ]
  },
  {
   "cell_type": "code",
   "execution_count": 13,
   "id": "2f816226",
   "metadata": {},
   "outputs": [
    {
     "data": {
      "image/png": "[encoded data removed]",
      "text/plain": [
       "<langgraph.graph.state.CompiledStateGraph object at 0x000001F00610EB60>"
      ]
     },
     "execution_count": 13,
     "metadata": {},
     "output_type": "execute_result"
    }
   ],
   "source": [
    "workflow"
   ]
  },
  {
   "cell_type": "code",
   "execution_count": null,
   "id": "d031a4d4",
   "metadata": {},
   "outputs": [
    {
     "name": "stdout",
     "output_type": "stream",
     "text": [
      " Starting UPSC Essay Evaluation Workflow...\n",
      " Quality Check: Score = 7.00, Iteration = 0\n",
      " Quality threshold met! Average score: 7.00\n",
      "\n",
      "================================================================================\n",
      " FINAL RESULTS\n",
      "================================================================================\n",
      "Final Average Score: 7.00/10\n",
      "Total Iterations: 0\n",
      "\n",
      " Overall Feedback:\n",
      " The essay showcases a formal tone, clear structure, and appropriate language, including complex terms like 'strategic imperative', 'inclusive growth', and 'algorithmic bias'. However, it could benefit from a more detailed explanation in certain areas, such as specific examples of AI enhancing public service delivery, and addressing challenges faced in India's AI development. The essay could also strengthen its conclusion to emphasize the potential benefits of AI for India.\n",
      "\n",
      "The analytical depth is moderate, with a clear argument about the strategic importance of AI for India and identification of ways AI is being used to improve public services. However, the essay could delve deeper into the challenges mentioned, including job displacement, data privacy, algorithmic bias, and lack of regulation, providing more specific examples and data to support claims. Exploration of long-term consequences of AI technology on Indian society and economy would also be beneficial.\n",
      "\n",
      "The essay is clear and well-structured, with a logical line of thought and effective use of examples. However, it could benefit from more specific examples and details, particularly in discussing the challenges of AI. The essay could also offer insights into how India can balance innovation with ethics, inclusion with efficiency, and automation with accountability. Overall, the essay presents a good understanding of the topic and a clear argument, but could benefit from more specific examples and details.\n",
      "\n",
      " Final Essay:\n",
      "Artificial Intelligence (AI) is not just a technological breakthrough—it is a strategic imperative for nations in the 21st century. For India, AI presents a historic opportunity to drive inclusive growth, strengthen governance, and position itself as a global digital leader.\n",
      "\n",
      "India's strengths lie in its vast digital ecosystem, young tech-savvy population, and rich data reserves. Recognizing this, NITI Aayog's #AIForAll initiative identifies key sectors for AI deployment: agriculture, healthcare, education, smart mobility, and infrastructure.\n",
      "\n",
      "AI is already enhancing public service delivery through:\n",
      "\n",
      "Predictive analytics in healthcare (e.g., Aarogya Setu)\n",
      "Crop monitoring via satellite data and ML\n",
      "Chatbots in citizen services\n",
      "Facial recognition for law enforcement\n",
      "\n",
      "However, challenges remain—job displacement, data privacy, algorithmic bias, and lack of regulation demand immediate attention. India's future in AI must balance innovation with ethics, inclusion with efficiency, and automation with accountability.\n",
      "\n",
      "If harnessed responsibly, AI can transform India into a technology-driven welfare state, empowering citizens and ensuring efficient, transparent, and responsive governance\n"
     ]
    }
   ],
   "source": [
    "if __name__ == \"__main__\":\n",
    "    initial_state = {\n",
    "        'essay': \"\"\"Artificial Intelligence (AI) is not just a technological breakthrough—it is a strategic imperative for nations in the 21st century. For India, AI presents a historic opportunity to drive inclusive growth, strengthen governance, and position itself as a global digital leader.\n",
    "\n",
    "India's strengths lie in its vast digital ecosystem, young tech-savvy population, and rich data reserves. Recognizing this, NITI Aayog's #AIForAll initiative identifies key sectors for AI deployment: agriculture, healthcare, education, smart mobility, and infrastructure.\n",
    "\n",
    "AI is already enhancing public service delivery through:\n",
    "\n",
    "Predictive analytics in healthcare (e.g., Aarogya Setu)\n",
    "Crop monitoring via satellite data and ML\n",
    "Chatbots in citizen services\n",
    "Facial recognition for law enforcement\n",
    "\n",
    "However, challenges remain—job displacement, data privacy, algorithmic bias, and lack of regulation demand immediate attention. India's future in AI must balance innovation with ethics, inclusion with efficiency, and automation with accountability.\n",
    "\n",
    "If harnessed responsibly, AI can transform India into a technology-driven welfare state, empowering citizens and ensuring efficient, transparent, and responsive governance\"\"\",\n",
    "        'language_feedback': \"\",\n",
    "        'clarity_feedback': \"\",\n",
    "        'overall_feedback': \"\",\n",
    "        'analysis_feedback': \"\",\n",
    "        'individual_scores': [],\n",
    "        'improved_essay': \"\",\n",
    "        'max_iterations': 3,\n",
    "        'avg_score': 0.0,\n",
    "        'iteration_count': 0,\n",
    "        'threshold_score': 7.0,\n",
    "    }\n",
    "\n",
    "    try:\n",
    "        print(\" Starting UPSC Essay Evaluation Workflow...\")\n",
    "        output = workflow.invoke(initial_state)\n",
    "        \n",
    "        print(\"\\n\" + \"=\"*80)\n",
    "        print(\" FINAL RESULTS\")\n",
    "        print(\"=\"*80)\n",
    "        print(f\"Final Average Score: {output['avg_score']:.2f}/10\")\n",
    "\n",
    "        \n",
    "        print(f\"\\n Overall Feedback:\\n{output['overall_feedback']}\")\n",
    "        print(f\"\\n Final Essay:\\n{output['essay']}\")\n",
    "\n",
    "        \n",
    "    except Exception as e:\n",
    "        print(f\" Error occurred: {str(e)}\")"
   ]
  },
  {
   "cell_type": "code",
   "execution_count": 17,
   "id": "6855841e",
   "metadata": {},
   "outputs": [],
   "source": [
    "with open(\"output.txt\", \"w\", encoding=\"utf-8\") as f:\n",
    "    f.write(output[\"essay\"] if isinstance(output, dict) else str(output.essay))\n",
    "\n"
   ]
  },
  {
   "cell_type": "code",
   "execution_count": null,
   "id": "4802d261",
   "metadata": {},
   "outputs": [],
   "source": []
  }
 ],
 "metadata": {
  "kernelspec": {
   "display_name": "langGraph",
   "language": "python",
   "name": "python3"
  },
  "language_info": {
   "codemirror_mode": {
    "name": "ipython",
    "version": 3
   },
   "file_extension": ".py",
   "mimetype": "text/x-python",
   "name": "python",
   "nbconvert_exporter": "python",
   "pygments_lexer": "ipython3",
   "version": "3.10.0"
  }
 },
 "nbformat": 4,
 "nbformat_minor": 5
}
